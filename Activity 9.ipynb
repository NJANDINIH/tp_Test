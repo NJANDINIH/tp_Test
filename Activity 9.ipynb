{
 "cells": [
  {
   "cell_type": "code",
   "execution_count": 1,
   "id": "ef1af8ea-5b96-47de-a68a-98d6afddd445",
   "metadata": {},
   "outputs": [
    {
     "name": "stdout",
     "output_type": "stream",
     "text": [
      "Bubble Sort: [3, 7, 10, 11, 13, 26, 43]\n"
     ]
    }
   ],
   "source": [
    "#Bubble Sort repeatedly steps through the list, compares adjacent elements, and swaps them if they are in the wrong order.\n",
    "#The process repeats until the list is sorted.\n",
    "def bubble_sort(arr):\n",
    "    n = len(arr)\n",
    "    for i in range(n):\n",
    "        for j in range(0, n-i-1):\n",
    "            if arr[j] > arr[j+1]:\n",
    "                arr[j], arr[j+1] = arr[j+1], arr[j]\n",
    "    return arr\n",
    "\n",
    "# Test\n",
    "arr = [10, 7, 26, 43, 3, 13, 11]\n",
    "sorted_arr = bubble_sort(arr.copy())\n",
    "print(\"Bubble Sort:\", sorted_arr)"
   ]
  },
  {
   "cell_type": "code",
   "execution_count": 2,
   "id": "4300b911-ad20-472b-9db0-92082390fb2b",
   "metadata": {},
   "outputs": [
    {
     "name": "stdout",
     "output_type": "stream",
     "text": [
      "Insertion Sort: [3, 7, 10, 11, 13, 26, 43]\n"
     ]
    }
   ],
   "source": [
    "#Insertion Sort builds the final sorted array one item at a time. \n",
    "#It is much less efficient on large lists than more advanced algorithms such as quicksort, heapsort, or merge sort.\n",
    "def insertion_sort(arr):\n",
    "    for i in range(1, len(arr)):\n",
    "        key = arr[i]\n",
    "        j = i - 1\n",
    "        while j >= 0 and key < arr[j]:\n",
    "            arr[j + 1] = arr[j]\n",
    "            j -= 1\n",
    "        arr[j + 1] = key\n",
    "    return arr\n",
    "\n",
    "# Test\n",
    "arr = [10, 7, 26, 43, 3, 13, 11]\n",
    "sorted_arr = insertion_sort(arr.copy())\n",
    "print(\"Insertion Sort:\", sorted_arr)\n"
   ]
  },
  {
   "cell_type": "code",
   "execution_count": 3,
   "id": "6eeee5eb-9104-473c-9adf-7f374ba667f1",
   "metadata": {},
   "outputs": [
    {
     "name": "stdout",
     "output_type": "stream",
     "text": [
      "Heap Sort Iteration: [11, 10, 26, 7, 3, 13, 43]\n",
      "Heap Sort Iteration: [11, 10, 13, 7, 3, 26, 43]\n",
      "Heap Sort Iteration: [3, 10, 11, 7, 13, 26, 43]\n",
      "Heap Sort Iteration: [7, 10, 3, 11, 13, 26, 43]\n",
      "Heap Sort Iteration: [3, 7, 10, 11, 13, 26, 43]\n",
      "Heap Sort Iteration: [3, 7, 10, 11, 13, 26, 43]\n",
      "Heap Sort: [10, 7, 26, 43, 3, 13, 11]\n"
     ]
    }
   ],
   "source": [
    "#Heap Sort is a comparison-based sorting technique based on a binary heap data structure.\n",
    "#It's similar to selection sort where we first find the maximum element and place it at the end. We repeat the same process for the remaining elements\n",
    "def heapify(arr, n, i):\n",
    "    largest = i\n",
    "    left = 2 * i + 1\n",
    "    right = 2 * i + 2\n",
    "\n",
    "    if left < n and arr[i] < arr[left]:\n",
    "        largest = left\n",
    "\n",
    "    if right < n and arr[largest] < arr[right]:\n",
    "        largest = right\n",
    "\n",
    "    if largest != i:\n",
    "        arr[i], arr[largest] = arr[largest], arr[i]\n",
    "        heapify(arr, n, largest)\n",
    "\n",
    "def heap_sort(arr):\n",
    "    n = len(arr)\n",
    "\n",
    "    # Build a maxheap\n",
    "    for i in range(n // 2 - 1, -1, -1):\n",
    "        heapify(arr, n, i)\n",
    "\n",
    "    # One by one extract elements\n",
    "    for i in range(n-1, 0, -1):\n",
    "        arr[i], arr[0] = arr[0], arr[i]\n",
    "        print(f\"Heap Sort Iteration: {arr}\")\n",
    "        heapify(arr, i, 0)\n",
    "\n",
    "# Test\n",
    "arr = [10, 7, 26, 43, 3, 13, 11]\n",
    "heap_sort(arr.copy())\n",
    "print(\"Heap Sort:\", arr)\n"
   ]
  },
  {
   "cell_type": "code",
   "execution_count": 4,
   "id": "ce76d65d-6cb1-4871-a95a-4992d2ddad9e",
   "metadata": {},
   "outputs": [
    {
     "name": "stdout",
     "output_type": "stream",
     "text": [
      "Element is present at index 4\n"
     ]
    }
   ],
   "source": [
    "#Binary Search works on sorted arrays.\n",
    "#It compares the target value to the middle element of the array.\n",
    "#If they are not equal, the half in which the target cannot lie is eliminated and the search continues on the remaining half until it is successful.\n",
    "def binary_search(arr, x):\n",
    "    low = 0\n",
    "    high = len(arr) - 1\n",
    "    mid = 0\n",
    "\n",
    "    while low <= high:\n",
    "        mid = (high + low) // 2\n",
    "        if arr[mid] < x:\n",
    "            low = mid + 1\n",
    "        elif arr[mid] > x:\n",
    "            high = mid - 1\n",
    "        else:\n",
    "            return mid\n",
    "    return -1\n",
    "\n",
    "# Test\n",
    "arr = [3, 7, 10, 11, 13, 26, 43]\n",
    "x = 13\n",
    "result = binary_search(arr, x)\n",
    "\n",
    "if result != -1:\n",
    "    print(f\"Element is present at index {result}\")\n",
    "else:\n",
    "    print(\"Element is not present in array\")\n"
   ]
  },
  {
   "cell_type": "markdown",
   "id": "0b061357-8d6d-4227-adc3-5dbd905b011c",
   "metadata": {},
   "source": [
    "Linear Search is the simplest search algorithm. It checks each element of the list sequentially until a match is found or the whole list has been searched.\n",
    "\n",
    "Algorithm for Linear Search:\n",
    "\n",
    "Start from the leftmost element of the list and move towards the rightmost element.\n",
    "Compare each element with the target value.\n",
    "If the target value matches the current element, return the index.\n",
    "If the target value is not found after checking all elements, return -1."
   ]
  }
 ],
 "metadata": {
  "kernelspec": {
   "display_name": "Python 3 (ipykernel)",
   "language": "python",
   "name": "python3"
  },
  "language_info": {
   "codemirror_mode": {
    "name": "ipython",
    "version": 3
   },
   "file_extension": ".py",
   "mimetype": "text/x-python",
   "name": "python",
   "nbconvert_exporter": "python",
   "pygments_lexer": "ipython3",
   "version": "3.11.9"
  }
 },
 "nbformat": 4,
 "nbformat_minor": 5
}
